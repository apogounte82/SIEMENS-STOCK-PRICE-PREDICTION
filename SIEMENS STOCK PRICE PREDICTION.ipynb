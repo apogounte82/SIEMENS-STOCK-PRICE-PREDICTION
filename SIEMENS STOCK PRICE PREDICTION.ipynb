{
 "cells": [
  {
   "cell_type": "code",
   "execution_count": 1,
   "metadata": {
    "collapsed": true
   },
   "outputs": [],
   "source": [
    "# I am going to try to predict the values of Siemens stock price, using a Recurrent Neural Network\n",
    "# We will use data downloaded from the following link\n",
    "# https://finance.yahoo.com/quote/SIE.DE/history?period1=1496696400&period2=1528232400&interval=1d&filter=history&frequency=1d\n",
    "# I have downloaded data of the last 5 years."
   ]
  },
  {
   "cell_type": "code",
   "execution_count": 2,
   "metadata": {
    "collapsed": true
   },
   "outputs": [],
   "source": [
    "# Importing the libraries\n",
    "import numpy as np\n",
    "import matplotlib.pyplot as plt\n",
    "import pandas as pd"
   ]
  },
  {
   "cell_type": "code",
   "execution_count": 3,
   "metadata": {
    "collapsed": true
   },
   "outputs": [],
   "source": [
    "# Importing the training set\n",
    "dataset = pd.read_csv('C:\\SIEMENSTRAIN.csv')"
   ]
  },
  {
   "cell_type": "code",
   "execution_count": 4,
   "metadata": {},
   "outputs": [
    {
     "data": {
      "text/html": [
       "<div>\n",
       "<style>\n",
       "    .dataframe thead tr:only-child th {\n",
       "        text-align: right;\n",
       "    }\n",
       "\n",
       "    .dataframe thead th {\n",
       "        text-align: left;\n",
       "    }\n",
       "\n",
       "    .dataframe tbody tr th {\n",
       "        vertical-align: top;\n",
       "    }\n",
       "</style>\n",
       "<table border=\"1\" class=\"dataframe\">\n",
       "  <thead>\n",
       "    <tr style=\"text-align: right;\">\n",
       "      <th></th>\n",
       "      <th>Date</th>\n",
       "      <th>Open</th>\n",
       "      <th>High</th>\n",
       "      <th>Low</th>\n",
       "      <th>Close</th>\n",
       "      <th>Adj Close</th>\n",
       "      <th>Volume</th>\n",
       "    </tr>\n",
       "  </thead>\n",
       "  <tbody>\n",
       "    <tr>\n",
       "      <th>0</th>\n",
       "      <td>2013-06-06</td>\n",
       "      <td>78.443001</td>\n",
       "      <td>78.743401</td>\n",
       "      <td>76.970001</td>\n",
       "      <td>77.057297</td>\n",
       "      <td>65.381271</td>\n",
       "      <td>2890421</td>\n",
       "    </tr>\n",
       "    <tr>\n",
       "      <th>1</th>\n",
       "      <td>2013-06-07</td>\n",
       "      <td>77.328598</td>\n",
       "      <td>78.278198</td>\n",
       "      <td>76.466103</td>\n",
       "      <td>77.842201</td>\n",
       "      <td>66.047241</td>\n",
       "      <td>3312735</td>\n",
       "    </tr>\n",
       "    <tr>\n",
       "      <th>2</th>\n",
       "      <td>2013-06-10</td>\n",
       "      <td>77.842201</td>\n",
       "      <td>79.014702</td>\n",
       "      <td>77.658096</td>\n",
       "      <td>78.578598</td>\n",
       "      <td>66.672058</td>\n",
       "      <td>2269863</td>\n",
       "    </tr>\n",
       "    <tr>\n",
       "      <th>3</th>\n",
       "      <td>2013-06-11</td>\n",
       "      <td>78.142601</td>\n",
       "      <td>78.665802</td>\n",
       "      <td>77.561096</td>\n",
       "      <td>78.472000</td>\n",
       "      <td>66.581604</td>\n",
       "      <td>2501774</td>\n",
       "    </tr>\n",
       "    <tr>\n",
       "      <th>4</th>\n",
       "      <td>2013-06-12</td>\n",
       "      <td>78.384804</td>\n",
       "      <td>78.888702</td>\n",
       "      <td>77.502998</td>\n",
       "      <td>77.822800</td>\n",
       "      <td>66.030785</td>\n",
       "      <td>1937397</td>\n",
       "    </tr>\n",
       "  </tbody>\n",
       "</table>\n",
       "</div>"
      ],
      "text/plain": [
       "         Date       Open       High        Low      Close  Adj Close   Volume\n",
       "0  2013-06-06  78.443001  78.743401  76.970001  77.057297  65.381271  2890421\n",
       "1  2013-06-07  77.328598  78.278198  76.466103  77.842201  66.047241  3312735\n",
       "2  2013-06-10  77.842201  79.014702  77.658096  78.578598  66.672058  2269863\n",
       "3  2013-06-11  78.142601  78.665802  77.561096  78.472000  66.581604  2501774\n",
       "4  2013-06-12  78.384804  78.888702  77.502998  77.822800  66.030785  1937397"
      ]
     },
     "execution_count": 4,
     "metadata": {},
     "output_type": "execute_result"
    }
   ],
   "source": [
    "# Exploration\n",
    "dataset.head()"
   ]
  },
  {
   "cell_type": "code",
   "execution_count": 5,
   "metadata": {},
   "outputs": [
    {
     "name": "stdout",
     "output_type": "stream",
     "text": [
      "Index(['Date', 'Open', 'High', 'Low', 'Close', 'Adj Close', 'Volume'], dtype='object')\n"
     ]
    }
   ],
   "source": [
    "print(dataset.columns)"
   ]
  },
  {
   "cell_type": "code",
   "execution_count": 6,
   "metadata": {},
   "outputs": [
    {
     "data": {
      "text/plain": [
       "Date         0\n",
       "Open         0\n",
       "High         0\n",
       "Low          0\n",
       "Close        0\n",
       "Adj Close    0\n",
       "Volume       0\n",
       "dtype: int64"
      ]
     },
     "execution_count": 6,
     "metadata": {},
     "output_type": "execute_result"
    }
   ],
   "source": [
    "# There are 7 columns in our dataset, and just by their names it is very clear what they represent\n",
    "# Checking for missing values\n",
    "dataset.isnull().sum()"
   ]
  },
  {
   "cell_type": "code",
   "execution_count": 7,
   "metadata": {},
   "outputs": [
    {
     "name": "stdout",
     "output_type": "stream",
     "text": [
      "<class 'pandas.core.frame.DataFrame'>\n",
      "RangeIndex: 1269 entries, 0 to 1268\n",
      "Data columns (total 7 columns):\n",
      "Date         1269 non-null object\n",
      "Open         1269 non-null object\n",
      "High         1269 non-null object\n",
      "Low          1269 non-null object\n",
      "Close        1269 non-null object\n",
      "Adj Close    1269 non-null object\n",
      "Volume       1269 non-null object\n",
      "dtypes: object(7)\n",
      "memory usage: 69.5+ KB\n"
     ]
    }
   ],
   "source": [
    "# No missing values, so let's explore a little bit more\n",
    "dataset.info()"
   ]
  },
  {
   "cell_type": "code",
   "execution_count": 8,
   "metadata": {
    "collapsed": true
   },
   "outputs": [],
   "source": [
    "# My variable, 'Close', is an \"object\". I will manipulate it accordingly, so that it becomes suitable\n",
    "dataset['Close'] = pd.to_numeric(dataset['Close'] , errors = 'coerce') \n",
    "dataset = dataset.dropna(subset=['Close'])"
   ]
  },
  {
   "cell_type": "code",
   "execution_count": 9,
   "metadata": {},
   "outputs": [
    {
     "name": "stdout",
     "output_type": "stream",
     "text": [
      "<class 'pandas.core.frame.DataFrame'>\n",
      "Int64Index: 1268 entries, 0 to 1268\n",
      "Data columns (total 7 columns):\n",
      "Date         1268 non-null object\n",
      "Open         1268 non-null object\n",
      "High         1268 non-null object\n",
      "Low          1268 non-null object\n",
      "Close        1268 non-null float64\n",
      "Adj Close    1268 non-null object\n",
      "Volume       1268 non-null object\n",
      "dtypes: float64(1), object(6)\n",
      "memory usage: 79.2+ KB\n"
     ]
    }
   ],
   "source": [
    "# Now let's verify\n",
    "dataset.info()"
   ]
  },
  {
   "cell_type": "code",
   "execution_count": 10,
   "metadata": {
    "collapsed": true
   },
   "outputs": [],
   "source": [
    "# So now we are ready to predict. We will try to predict next day's closing stock price,\n",
    "# for the last 30 days, using as a variable, the closing values of the previous 20 days. \n",
    "# I am using the n, because we do not know which timeframe is the most adequate for our purpose\n",
    "# Therefore  I am selecting, the fifth column, \"Close\", name it training_set, and store it\n",
    "# as a numpy array\n",
    "# But first I must exclude the last 30 days of my dataset, because I want them to be\n",
    "# completely unknown, for my prediction , when we get to that point\n",
    "trainset = dataset.iloc[0:1268-30 , :]"
   ]
  },
  {
   "cell_type": "code",
   "execution_count": 11,
   "metadata": {
    "collapsed": true
   },
   "outputs": [],
   "source": [
    "# We can see that the number of rows is 1238, so we have succesfully excluded the last 30days\n",
    "# I am constructing  the training_set, the fifth column of my dataset\n",
    "training_set = trainset.iloc[:, 4:5].values"
   ]
  },
  {
   "cell_type": "code",
   "execution_count": 12,
   "metadata": {
    "collapsed": true
   },
   "outputs": [],
   "source": [
    "# Applying Feature Scaling\n",
    "from sklearn.preprocessing import MinMaxScaler\n",
    "sc = MinMaxScaler(feature_range = (0, 1))\n",
    "training_set_scaled = sc.fit_transform(training_set)"
   ]
  },
  {
   "cell_type": "code",
   "execution_count": 13,
   "metadata": {
    "collapsed": true
   },
   "outputs": [],
   "source": [
    "# Creating a data structure with n timesteps and 1 output\n",
    "# I will now crate my X_train and y_train variables, as empty lists at  first.\n",
    "# So, let us say for example, that we will be using the previous 20 days,meaning\n",
    "# values 0 to 19 of our column to predict the 21st, AND next on, days 1-21 to predict\n",
    "# the 22nd, and so on and so forth...Our column has 1238 values\n",
    "X_train = []\n",
    "y_train = []\n",
    "# bazei (20,1238), gt thelei minimum 20 steps.\n",
    "for i in range(20, 1238):\n",
    "    X_train.append(training_set_scaled[i-20:i, 0])\n",
    "    y_train.append(training_set_scaled[i, 0])\n",
    "\n"
   ]
  },
  {
   "cell_type": "code",
   "execution_count": 14,
   "metadata": {
    "collapsed": true
   },
   "outputs": [],
   "source": [
    "#For instance, if i == 20, it will append to X_train [20-20:20 , 0] -> [0:20, 0]\n",
    "# meaning the first 20 values of our column, and it will append to y_train\n",
    "# [20,0]\n",
    "    \n",
    "# If we leave our X_train = [] and y_train = [] as lists, our RNN will not be able to use them.\n",
    "# twra kanoume tis listes , numpy arrays wste na mporei na tis \n",
    "# dextei to rnn mas\n",
    "X_train, y_train = np.array(X_train), np.array(y_train)"
   ]
  },
  {
   "cell_type": "code",
   "execution_count": 15,
   "metadata": {
    "collapsed": true
   },
   "outputs": [],
   "source": [
    "# Reshaping\n",
    "\n",
    "# if someone goes to keras documentation, he will see the following:\n",
    "# 3D tensor with shape (batch_size, timesteps, input_dim).\n",
    "# batch size is the total number of rows(observations) we have\n",
    "# timesteps, the number of steps we are willing to take into\n",
    "# consideration, in our case 20\n",
    "# input dim is the number of predictors, in our case just 1, the \n",
    "# 'Close' column\n",
    "# So , we are obligated to reshape our X_train\n",
    "X_train = np.reshape(X_train, (X_train.shape[0], X_train.shape[1], 1))"
   ]
  },
  {
   "cell_type": "code",
   "execution_count": 16,
   "metadata": {},
   "outputs": [
    {
     "name": "stderr",
     "output_type": "stream",
     "text": [
      "Using TensorFlow backend.\n"
     ]
    }
   ],
   "source": [
    "# Importing Keras libraries and packages\n",
    "from keras.models import Sequential\n",
    "from keras.layers import Dense\n",
    "from keras.layers import LSTM\n",
    "from keras.layers import Dropout\n",
    "\n",
    "# Initialising the model\n",
    "model = Sequential()\n"
   ]
  },
  {
   "cell_type": "code",
   "execution_count": 17,
   "metadata": {
    "collapsed": true
   },
   "outputs": [],
   "source": [
    "# Adding the first LSTM layer and some Dropout regularisation, to avoid overfitting\n",
    "# units = number of memory units (neurons), need high dimensionality\n",
    "# which is already present due to multiple LSTM layers, but more increased\n",
    "# within each LSTM layer, choosing a correct number of units\n",
    "# return sequences = True, because other layers are following\n",
    "# input shape: Adding the two last \"dimensions\", because the first,corresponding to\n",
    "# the number of observations, is taken into account automatically\n",
    "model.add(LSTM(units = 30, return_sequences = True, input_shape = (X_train.shape[1], 1)))\n",
    "# adding 20% dropout , to enhance avoiding of overfitting\n",
    "model.add(Dropout(0.2))\n"
   ]
  },
  {
   "cell_type": "code",
   "execution_count": 18,
   "metadata": {
    "collapsed": true
   },
   "outputs": [],
   "source": [
    "# Adding a second LSTM layer and again some Dropout regularisation\n",
    "# no need to specify to input shape, automatically recognised\n",
    "model.add(LSTM(units = 30, return_sequences = True))\n",
    "model.add(Dropout(0.2))"
   ]
  },
  {
   "cell_type": "code",
   "execution_count": 19,
   "metadata": {
    "collapsed": true
   },
   "outputs": [],
   "source": [
    "# Adding a third LSTM layer and  Dropout \n",
    "model.add(LSTM(units = 30, return_sequences = True))\n",
    "model.add(Dropout(0.2))\n",
    "\n",
    "# Adding a fourth LSTM layer and Dropout \n",
    "model.add(LSTM(units = 30, return_sequences = True))\n",
    "model.add(Dropout(0.2))\n"
   ]
  },
  {
   "cell_type": "code",
   "execution_count": 20,
   "metadata": {
    "collapsed": true
   },
   "outputs": [],
   "source": [
    "# Adding a fifth LSTM layer and some Dropout regularisation\n",
    "# default return sequences is false, and beacuse there is not a next\n",
    "# LSTM layer, we omit referring to it\n",
    "model.add(LSTM(units = 30))\n",
    "model.add(Dropout(0.2))"
   ]
  },
  {
   "cell_type": "code",
   "execution_count": 21,
   "metadata": {},
   "outputs": [
    {
     "name": "stdout",
     "output_type": "stream",
     "text": [
      "Epoch 1/100\n",
      "1218/1218 [==============================] - 11s 9ms/step - loss: 0.0612\n",
      "Epoch 2/100\n",
      "1218/1218 [==============================] - 4s 3ms/step - loss: 0.0114\n",
      "Epoch 3/100\n",
      "1218/1218 [==============================] - 4s 3ms/step - loss: 0.0090\n",
      "Epoch 4/100\n",
      "1218/1218 [==============================] - 4s 3ms/step - loss: 0.0084\n",
      "Epoch 5/100\n",
      "1218/1218 [==============================] - 4s 3ms/step - loss: 0.0082\n",
      "Epoch 6/100\n",
      "1218/1218 [==============================] - 4s 3ms/step - loss: 0.0082\n",
      "Epoch 7/100\n",
      "1218/1218 [==============================] - 4s 3ms/step - loss: 0.0083\n",
      "Epoch 8/100\n",
      "1218/1218 [==============================] - 4s 3ms/step - loss: 0.0086\n",
      "Epoch 9/100\n",
      "1218/1218 [==============================] - 4s 3ms/step - loss: 0.0077\n",
      "Epoch 10/100\n",
      "1218/1218 [==============================] - 5s 4ms/step - loss: 0.0071\n",
      "Epoch 11/100\n",
      "1218/1218 [==============================] - 4s 3ms/step - loss: 0.0070\n",
      "Epoch 12/100\n",
      "1218/1218 [==============================] - 4s 3ms/step - loss: 0.0072\n",
      "Epoch 13/100\n",
      "1218/1218 [==============================] - 4s 3ms/step - loss: 0.0070\n",
      "Epoch 14/100\n",
      "1218/1218 [==============================] - 4s 3ms/step - loss: 0.0067\n",
      "Epoch 15/100\n",
      "1218/1218 [==============================] - 4s 3ms/step - loss: 0.0063\n",
      "Epoch 16/100\n",
      "1218/1218 [==============================] - 4s 3ms/step - loss: 0.0072\n",
      "Epoch 17/100\n",
      "1218/1218 [==============================] - 4s 3ms/step - loss: 0.0063\n",
      "Epoch 18/100\n",
      "1218/1218 [==============================] - 4s 3ms/step - loss: 0.0069\n",
      "Epoch 19/100\n",
      "1218/1218 [==============================] - 4s 3ms/step - loss: 0.0061\n",
      "Epoch 20/100\n",
      "1218/1218 [==============================] - 4s 3ms/step - loss: 0.0060\n",
      "Epoch 21/100\n",
      "1218/1218 [==============================] - 4s 3ms/step - loss: 0.0060\n",
      "Epoch 22/100\n",
      "1218/1218 [==============================] - 4s 3ms/step - loss: 0.0063\n",
      "Epoch 23/100\n",
      "1218/1218 [==============================] - 4s 3ms/step - loss: 0.0055\n",
      "Epoch 24/100\n",
      "1218/1218 [==============================] - 4s 3ms/step - loss: 0.0056\n",
      "Epoch 25/100\n",
      "1218/1218 [==============================] - 4s 3ms/step - loss: 0.0058\n",
      "Epoch 26/100\n",
      "1218/1218 [==============================] - 4s 3ms/step - loss: 0.0051\n",
      "Epoch 27/100\n",
      "1218/1218 [==============================] - 4s 4ms/step - loss: 0.0054\n",
      "Epoch 28/100\n",
      "1218/1218 [==============================] - 4s 3ms/step - loss: 0.0051\n",
      "Epoch 29/100\n",
      "1218/1218 [==============================] - 4s 3ms/step - loss: 0.0052\n",
      "Epoch 30/100\n",
      "1218/1218 [==============================] - 4s 3ms/step - loss: 0.0050\n",
      "Epoch 31/100\n",
      "1218/1218 [==============================] - 4s 3ms/step - loss: 0.0056\n",
      "Epoch 32/100\n",
      "1218/1218 [==============================] - 4s 3ms/step - loss: 0.0048\n",
      "Epoch 33/100\n",
      "1218/1218 [==============================] - 4s 3ms/step - loss: 0.0053\n",
      "Epoch 34/100\n",
      "1218/1218 [==============================] - 4s 3ms/step - loss: 0.0063\n",
      "Epoch 35/100\n",
      "1218/1218 [==============================] - 4s 3ms/step - loss: 0.0050\n",
      "Epoch 36/100\n",
      "1218/1218 [==============================] - 4s 3ms/step - loss: 0.0045\n",
      "Epoch 37/100\n",
      "1218/1218 [==============================] - 4s 3ms/step - loss: 0.0051\n",
      "Epoch 38/100\n",
      "1218/1218 [==============================] - 4s 3ms/step - loss: 0.0049\n",
      "Epoch 39/100\n",
      "1218/1218 [==============================] - 4s 3ms/step - loss: 0.0042\n",
      "Epoch 40/100\n",
      "1218/1218 [==============================] - 4s 3ms/step - loss: 0.0045\n",
      "Epoch 41/100\n",
      "1218/1218 [==============================] - 4s 3ms/step - loss: 0.0044\n",
      "Epoch 42/100\n",
      "1218/1218 [==============================] - 4s 3ms/step - loss: 0.0041A: 0s - los\n",
      "Epoch 43/100\n",
      "1218/1218 [==============================] - 4s 3ms/step - loss: 0.0042\n",
      "Epoch 44/100\n",
      "1218/1218 [==============================] - 4s 3ms/step - loss: 0.0040\n",
      "Epoch 45/100\n",
      "1218/1218 [==============================] - 4s 3ms/step - loss: 0.0040\n",
      "Epoch 46/100\n",
      "1218/1218 [==============================] - 4s 3ms/step - loss: 0.0038\n",
      "Epoch 47/100\n",
      "1218/1218 [==============================] - 4s 4ms/step - loss: 0.0041A: 1s -\n",
      "Epoch 48/100\n",
      "1218/1218 [==============================] - 4s 3ms/step - loss: 0.0037\n",
      "Epoch 49/100\n",
      "1218/1218 [==============================] - 4s 3ms/step - loss: 0.0036\n",
      "Epoch 50/100\n",
      "1218/1218 [==============================] - 4s 3ms/step - loss: 0.0035\n",
      "Epoch 51/100\n",
      "1218/1218 [==============================] - 5s 4ms/step - loss: 0.0035\n",
      "Epoch 52/100\n",
      "1218/1218 [==============================] - 4s 3ms/step - loss: 0.0038\n",
      "Epoch 53/100\n",
      "1218/1218 [==============================] - 4s 3ms/step - loss: 0.0038\n",
      "Epoch 54/100\n",
      "1218/1218 [==============================] - 4s 3ms/step - loss: 0.0035\n",
      "Epoch 55/100\n",
      "1218/1218 [==============================] - 4s 3ms/step - loss: 0.0033\n",
      "Epoch 56/100\n",
      "1218/1218 [==============================] - 4s 3ms/step - loss: 0.0039\n",
      "Epoch 57/100\n",
      "1218/1218 [==============================] - 4s 3ms/step - loss: 0.0033\n",
      "Epoch 58/100\n",
      "1218/1218 [==============================] - 4s 3ms/step - loss: 0.0030\n",
      "Epoch 59/100\n",
      "1218/1218 [==============================] - 4s 3ms/step - loss: 0.0031\n",
      "Epoch 60/100\n",
      "1218/1218 [==============================] - 4s 3ms/step - loss: 0.0032\n",
      "Epoch 61/100\n",
      "1218/1218 [==============================] - 4s 3ms/step - loss: 0.0031\n",
      "Epoch 62/100\n",
      "1218/1218 [==============================] - 4s 3ms/step - loss: 0.0029\n",
      "Epoch 63/100\n",
      "1218/1218 [==============================] - 4s 3ms/step - loss: 0.0031\n",
      "Epoch 64/100\n",
      "1218/1218 [==============================] - 4s 3ms/step - loss: 0.0030\n",
      "Epoch 65/100\n",
      "1218/1218 [==============================] - 4s 3ms/step - loss: 0.0028\n",
      "Epoch 66/100\n",
      "1218/1218 [==============================] - 4s 3ms/step - loss: 0.0028\n",
      "Epoch 67/100\n",
      "1218/1218 [==============================] - 4s 3ms/step - loss: 0.0029\n",
      "Epoch 68/100\n",
      "1218/1218 [==============================] - 4s 3ms/step - loss: 0.0027\n",
      "Epoch 69/100\n",
      "1218/1218 [==============================] - 4s 3ms/step - loss: 0.0026\n",
      "Epoch 70/100\n",
      "1218/1218 [==============================] - 4s 3ms/step - loss: 0.0026\n",
      "Epoch 71/100\n",
      "1218/1218 [==============================] - 4s 3ms/step - loss: 0.0025\n",
      "Epoch 72/100\n",
      "1218/1218 [==============================] - 4s 3ms/step - loss: 0.0027\n",
      "Epoch 73/100\n",
      "1218/1218 [==============================] - 4s 3ms/step - loss: 0.0025\n",
      "Epoch 74/100\n",
      "1218/1218 [==============================] - 4s 3ms/step - loss: 0.0024\n",
      "Epoch 75/100\n",
      "1218/1218 [==============================] - 4s 3ms/step - loss: 0.0026\n",
      "Epoch 76/100\n",
      "1218/1218 [==============================] - 4s 3ms/step - loss: 0.0030\n",
      "Epoch 77/100\n",
      "1218/1218 [==============================] - 4s 3ms/step - loss: 0.0025\n",
      "Epoch 78/100\n",
      "1218/1218 [==============================] - 4s 3ms/step - loss: 0.0026\n",
      "Epoch 79/100\n",
      "1218/1218 [==============================] - 4s 3ms/step - loss: 0.0024\n",
      "Epoch 80/100\n",
      "1218/1218 [==============================] - 4s 4ms/step - loss: 0.0025\n",
      "Epoch 81/100\n",
      "1218/1218 [==============================] - 4s 3ms/step - loss: 0.0024\n",
      "Epoch 82/100\n",
      "1218/1218 [==============================] - 4s 3ms/step - loss: 0.0024\n",
      "Epoch 83/100\n",
      "1218/1218 [==============================] - 4s 3ms/step - loss: 0.0025A: 0s - loss:\n",
      "Epoch 84/100\n",
      "1218/1218 [==============================] - 4s 3ms/step - loss: 0.0021\n",
      "Epoch 85/100\n",
      "1218/1218 [==============================] - 4s 3ms/step - loss: 0.0021A: 0s - loss: 0.\n",
      "Epoch 86/100\n",
      "1218/1218 [==============================] - 4s 3ms/step - loss: 0.0022\n",
      "Epoch 87/100\n",
      "1218/1218 [==============================] - 4s 3ms/step - loss: 0.0022\n",
      "Epoch 88/100\n",
      "1218/1218 [==============================] - 4s 3ms/step - loss: 0.0022\n",
      "Epoch 89/100\n",
      "1218/1218 [==============================] - 4s 3ms/step - loss: 0.0022\n",
      "Epoch 90/100\n",
      "1218/1218 [==============================] - 4s 3ms/step - loss: 0.0020\n",
      "Epoch 91/100\n",
      "1218/1218 [==============================] - 4s 3ms/step - loss: 0.0019\n",
      "Epoch 92/100\n",
      "1218/1218 [==============================] - 4s 3ms/step - loss: 0.0019\n",
      "Epoch 93/100\n",
      "1218/1218 [==============================] - 4s 3ms/step - loss: 0.0022\n",
      "Epoch 94/100\n",
      "1218/1218 [==============================] - 4s 3ms/step - loss: 0.0020\n",
      "Epoch 95/100\n",
      "1218/1218 [==============================] - 5s 4ms/step - loss: 0.0019\n",
      "Epoch 96/100\n"
     ]
    },
    {
     "name": "stdout",
     "output_type": "stream",
     "text": [
      "1218/1218 [==============================] - 4s 3ms/step - loss: 0.0020\n",
      "Epoch 97/100\n",
      "1218/1218 [==============================] - 4s 3ms/step - loss: 0.0020\n",
      "Epoch 98/100\n",
      "1218/1218 [==============================] - 4s 3ms/step - loss: 0.0019\n",
      "Epoch 99/100\n",
      "1218/1218 [==============================] - 4s 3ms/step - loss: 0.0020\n",
      "Epoch 100/100\n",
      "1218/1218 [==============================] - 4s 3ms/step - loss: 0.0019\n"
     ]
    },
    {
     "data": {
      "text/plain": [
       "<keras.callbacks.History at 0x102aa208>"
      ]
     },
     "execution_count": 21,
     "metadata": {},
     "output_type": "execute_result"
    }
   ],
   "source": [
    "# Adding the output layer,units is set to 1, becaue we are\n",
    "# trying to predict one thing, the stock price\n",
    "model.add(Dense(units = 1))\n",
    "\n",
    "# Compiling the RNN\n",
    "# we could use either  adam or rmsprop\n",
    "# the loss function is mean squared error, because in fact, it is a regression\n",
    "model.compile(optimizer = 'adam', loss = 'mean_squared_error')\n",
    "\n",
    "# Fitting the RNN to the Training set\n",
    "model.fit(X_train, y_train, epochs = 100, batch_size = 32)\n"
   ]
  },
  {
   "cell_type": "code",
   "execution_count": 23,
   "metadata": {
    "collapsed": true
   },
   "outputs": [],
   "source": [
    "# Very low loss, so we are expecting a good prediction\n",
    "# I will use the last 30 days of my dataset, plus the previous 20, to try to predict the price\n",
    "# Meaning I am creating the dataset_test dataframe, using the last 50 rows, and all the columns.\n",
    "dataset_test = dataset.iloc[1268-30-20:1268 , :]"
   ]
  },
  {
   "cell_type": "code",
   "execution_count": 24,
   "metadata": {
    "collapsed": true
   },
   "outputs": [],
   "source": [
    "# I am going to set a variable, real_stock_price, meaning the last 30 days of my dataset test\n",
    "# because next on I will be using it for visualisation along with the predicted price\n",
    "real_stock_price = dataset_test.iloc[20:50, 4:5].values"
   ]
  },
  {
   "cell_type": "code",
   "execution_count": 25,
   "metadata": {
    "collapsed": true
   },
   "outputs": [],
   "source": [
    "# Now , I must transform, the 5th column, \"Close\", of dataset_test dataframe\n",
    "# into an array.\n",
    "testing = dataset_test.iloc[: , 4].values"
   ]
  },
  {
   "cell_type": "code",
   "execution_count": 26,
   "metadata": {
    "collapsed": true
   },
   "outputs": [],
   "source": [
    "# I am also using reshape on my testing variable, because I must have a suitable form of my array\n",
    "# After applying it, we can see two [[]], which makes it adequate for my purpose\n",
    "testing = testing.reshape(-1,1)"
   ]
  },
  {
   "cell_type": "code",
   "execution_count": 27,
   "metadata": {
    "collapsed": true
   },
   "outputs": [],
   "source": [
    "# Of course , we must apply once again SCALING \n",
    "testing = sc.transform(testing)"
   ]
  },
  {
   "cell_type": "code",
   "execution_count": 29,
   "metadata": {
    "collapsed": true
   },
   "outputs": [],
   "source": [
    "# Now I will construct the X_test. I will get all the last 30 lines of my testing array\n",
    "# starting from the 21st day, because I need to have at least 20 previous days for prediction\n",
    "# Following the same procedure, I am creating an empty list called X_test\n",
    "X_test = []\n",
    "for i in range(20, 50):\n",
    "    X_test.append(testing[i-20:i, 0])  "
   ]
  },
  {
   "cell_type": "code",
   "execution_count": 30,
   "metadata": {
    "collapsed": true
   },
   "outputs": [],
   "source": [
    "# Turning it into an array\n",
    "X_test = np.array(X_test)\n",
    "# We must not forget to reshape it , as directed by the keras documentation\n",
    "X_test = np.reshape(X_test, (X_test.shape[0], X_test.shape[1], 1))"
   ]
  },
  {
   "cell_type": "code",
   "execution_count": 31,
   "metadata": {
    "collapsed": true
   },
   "outputs": [],
   "source": [
    "# Predicting the results\n",
    "predicted_stock_price = model.predict(X_test)"
   ]
  },
  {
   "cell_type": "code",
   "execution_count": 32,
   "metadata": {
    "collapsed": true
   },
   "outputs": [],
   "source": [
    "# Inversing the predicted results. Otherwise they will be scaled and not comparable to\n",
    "# the real stock price\n",
    "predicted_stock_price = sc.inverse_transform(predicted_stock_price)"
   ]
  },
  {
   "cell_type": "code",
   "execution_count": 22,
   "metadata": {
    "scrolled": true
   },
   "outputs": [
    {
     "data": {
      "image/png": "[encoded data removed]",
      "text/plain": [
       "<matplotlib.figure.Figure at 0x16725dd8>"
      ]
     },
     "metadata": {},
     "output_type": "display_data"
    }
   ],
   "source": [
    "# Visualising the results\n",
    "plt.plot(real_stock_price, color = 'red', label = 'Real Siemens Stock Price')\n",
    "plt.plot(predicted_stock_price, color = 'blue', label = 'Predicted Siemens Stock Price')\n",
    "plt.title('Siemens Stock Price Prediction')\n",
    "plt.xlabel('Time')\n",
    "plt.ylabel('Siemens Stock Price')\n",
    "plt.legend()\n",
    "plt.show()\n",
    "%matplotlib inline"
   ]
  },
  {
   "cell_type": "code",
   "execution_count": null,
   "metadata": {
    "collapsed": true
   },
   "outputs": [],
   "source": [
    "# Comments\n",
    "\n",
    "# Our line, is smoother than the real , and of course it cannot predict \n",
    "# sudden changes like for instance day 6 or day 19.  Still, it depicts\n",
    "# quite well the \"trend\" of the stock price."
   ]
  }
 ],
 "metadata": {
  "kernelspec": {
   "display_name": "Python 3",
   "language": "python",
   "name": "python3"
  },
  "language_info": {
   "codemirror_mode": {
    "name": "ipython",
    "version": 3
   },
   "file_extension": ".py",
   "mimetype": "text/x-python",
   "name": "python",
   "nbconvert_exporter": "python",
   "pygments_lexer": "ipython3",
   "version": "3.6.3"
  }
 },
 "nbformat": 4,
 "nbformat_minor": 2
}
